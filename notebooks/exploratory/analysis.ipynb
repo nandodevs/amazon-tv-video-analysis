{
 "cells": [
  {
   "cell_type": "markdown",
   "metadata": {},
   "source": [
    "# Análise de Dados Prelimares do Dataset\n",
    "### Amazon Prime TV & Shows"
   ]
  },
  {
   "cell_type": "code",
   "execution_count": 1,
   "metadata": {},
   "outputs": [],
   "source": [
    "# Importando libs\n",
    "import numpy as np\n",
    "import pandas as pd\n",
    "import matplotlib.pyplot as plt\n",
    "import seaborn as sns\n",
    "\n",
    "#Avisos\n",
    "import warnings\n",
    "warnings.filterwarnings('ignore')\n",
    "\n",
    "#Configuração do Pandas\n",
    "pd.set_option('display.max_rows', 200)\n",
    "pd.set_option('display.max_columns', 100)\n",
    "\n",
    "# Configuração Matplotlib\n",
    "plt.rcParams[\"figure.figsize\"] = (15,6)\n",
    "\n"
   ]
  },
  {
   "cell_type": "code",
   "execution_count": 2,
   "metadata": {},
   "outputs": [
    {
     "data": {
      "text/html": [
       "<div>\n",
       "<style scoped>\n",
       "    .dataframe tbody tr th:only-of-type {\n",
       "        vertical-align: middle;\n",
       "    }\n",
       "\n",
       "    .dataframe tbody tr th {\n",
       "        vertical-align: top;\n",
       "    }\n",
       "\n",
       "    .dataframe thead th {\n",
       "        text-align: right;\n",
       "    }\n",
       "</style>\n",
       "<table border=\"1\" class=\"dataframe\">\n",
       "  <thead>\n",
       "    <tr style=\"text-align: right;\">\n",
       "      <th></th>\n",
       "      <th>show_id</th>\n",
       "      <th>type</th>\n",
       "      <th>title</th>\n",
       "      <th>director</th>\n",
       "      <th>cast</th>\n",
       "      <th>country</th>\n",
       "      <th>date_added</th>\n",
       "      <th>release_year</th>\n",
       "      <th>rating</th>\n",
       "      <th>duration</th>\n",
       "      <th>listed_in</th>\n",
       "      <th>description</th>\n",
       "    </tr>\n",
       "  </thead>\n",
       "  <tbody>\n",
       "    <tr>\n",
       "      <th>0</th>\n",
       "      <td>s1</td>\n",
       "      <td>Movie</td>\n",
       "      <td>The Grand Seduction</td>\n",
       "      <td>Don McKellar</td>\n",
       "      <td>Brendan Gleeson, Taylor Kitsch, Gordon Pinsent</td>\n",
       "      <td>Canada</td>\n",
       "      <td>March 30, 2021</td>\n",
       "      <td>2014</td>\n",
       "      <td>NaN</td>\n",
       "      <td>113 min</td>\n",
       "      <td>Comedy, Drama</td>\n",
       "      <td>A small fishing village must procure a local d...</td>\n",
       "    </tr>\n",
       "    <tr>\n",
       "      <th>1</th>\n",
       "      <td>s2</td>\n",
       "      <td>Movie</td>\n",
       "      <td>Take Care Good Night</td>\n",
       "      <td>Girish Joshi</td>\n",
       "      <td>Mahesh Manjrekar, Abhay Mahajan, Sachin Khedekar</td>\n",
       "      <td>India</td>\n",
       "      <td>March 30, 2021</td>\n",
       "      <td>2018</td>\n",
       "      <td>13+</td>\n",
       "      <td>110 min</td>\n",
       "      <td>Drama, International</td>\n",
       "      <td>A Metro Family decides to fight a Cyber Crimin...</td>\n",
       "    </tr>\n",
       "    <tr>\n",
       "      <th>2</th>\n",
       "      <td>s3</td>\n",
       "      <td>Movie</td>\n",
       "      <td>Secrets of Deception</td>\n",
       "      <td>Josh Webber</td>\n",
       "      <td>Tom Sizemore, Lorenzo Lamas, Robert LaSardo, R...</td>\n",
       "      <td>United States</td>\n",
       "      <td>March 30, 2021</td>\n",
       "      <td>2017</td>\n",
       "      <td>NaN</td>\n",
       "      <td>74 min</td>\n",
       "      <td>Action, Drama, Suspense</td>\n",
       "      <td>After a man discovers his wife is cheating on ...</td>\n",
       "    </tr>\n",
       "    <tr>\n",
       "      <th>3</th>\n",
       "      <td>s4</td>\n",
       "      <td>Movie</td>\n",
       "      <td>Pink: Staying True</td>\n",
       "      <td>Sonia Anderson</td>\n",
       "      <td>Interviews with: Pink, Adele, Beyoncé, Britney...</td>\n",
       "      <td>United States</td>\n",
       "      <td>March 30, 2021</td>\n",
       "      <td>2014</td>\n",
       "      <td>NaN</td>\n",
       "      <td>69 min</td>\n",
       "      <td>Documentary</td>\n",
       "      <td>Pink breaks the mold once again, bringing her ...</td>\n",
       "    </tr>\n",
       "    <tr>\n",
       "      <th>4</th>\n",
       "      <td>s5</td>\n",
       "      <td>Movie</td>\n",
       "      <td>Monster Maker</td>\n",
       "      <td>Giles Foster</td>\n",
       "      <td>Harry Dean Stanton, Kieran O'Brien, George Cos...</td>\n",
       "      <td>United Kingdom</td>\n",
       "      <td>March 30, 2021</td>\n",
       "      <td>1989</td>\n",
       "      <td>NaN</td>\n",
       "      <td>45 min</td>\n",
       "      <td>Drama, Fantasy</td>\n",
       "      <td>Teenage Matt Banting wants to work with a famo...</td>\n",
       "    </tr>\n",
       "  </tbody>\n",
       "</table>\n",
       "</div>"
      ],
      "text/plain": [
       "  show_id   type                 title        director  \\\n",
       "0      s1  Movie   The Grand Seduction    Don McKellar   \n",
       "1      s2  Movie  Take Care Good Night    Girish Joshi   \n",
       "2      s3  Movie  Secrets of Deception     Josh Webber   \n",
       "3      s4  Movie    Pink: Staying True  Sonia Anderson   \n",
       "4      s5  Movie         Monster Maker    Giles Foster   \n",
       "\n",
       "                                                cast         country  \\\n",
       "0     Brendan Gleeson, Taylor Kitsch, Gordon Pinsent          Canada   \n",
       "1   Mahesh Manjrekar, Abhay Mahajan, Sachin Khedekar           India   \n",
       "2  Tom Sizemore, Lorenzo Lamas, Robert LaSardo, R...   United States   \n",
       "3  Interviews with: Pink, Adele, Beyoncé, Britney...   United States   \n",
       "4  Harry Dean Stanton, Kieran O'Brien, George Cos...  United Kingdom   \n",
       "\n",
       "       date_added  release_year rating duration                listed_in  \\\n",
       "0  March 30, 2021          2014    NaN  113 min            Comedy, Drama   \n",
       "1  March 30, 2021          2018    13+  110 min     Drama, International   \n",
       "2  March 30, 2021          2017    NaN   74 min  Action, Drama, Suspense   \n",
       "3  March 30, 2021          2014    NaN   69 min              Documentary   \n",
       "4  March 30, 2021          1989    NaN   45 min           Drama, Fantasy   \n",
       "\n",
       "                                         description  \n",
       "0  A small fishing village must procure a local d...  \n",
       "1  A Metro Family decides to fight a Cyber Crimin...  \n",
       "2  After a man discovers his wife is cheating on ...  \n",
       "3  Pink breaks the mold once again, bringing her ...  \n",
       "4  Teenage Matt Banting wants to work with a famo...  "
      ]
     },
     "execution_count": 2,
     "metadata": {},
     "output_type": "execute_result"
    }
   ],
   "source": [
    "# Import de dataset raw\n",
    "raw_dataset = pd.read_csv('../../data/raw/dataset_origin.csv')\n",
    "\n",
    "#Principais dados\n",
    "raw_dataset.head()"
   ]
  },
  {
   "cell_type": "code",
   "execution_count": 3,
   "metadata": {},
   "outputs": [
    {
     "data": {
      "text/plain": [
       "Index(['show_id', 'type', 'title', 'director', 'cast', 'country', 'date_added',\n",
       "       'release_year', 'rating', 'duration', 'listed_in', 'description'],\n",
       "      dtype='object')"
      ]
     },
     "execution_count": 3,
     "metadata": {},
     "output_type": "execute_result"
    }
   ],
   "source": [
    "# Check columns\n",
    "raw_dataset.columns"
   ]
  },
  {
   "cell_type": "code",
   "execution_count": 4,
   "metadata": {},
   "outputs": [
    {
     "name": "stdout",
     "output_type": "stream",
     "text": [
      "Número de linhas: 9668\n",
      "Número de colunas: 12\n"
     ]
    }
   ],
   "source": [
    "# Obter o número de linhas e colunas do dataset\n",
    "num_linhas, num_colunas = raw_dataset.shape\n",
    "\n",
    "# Imprimir o resultado\n",
    "print(\"Número de linhas:\", num_linhas)\n",
    "print(\"Número de colunas:\", num_colunas)"
   ]
  },
  {
   "cell_type": "code",
   "execution_count": 5,
   "metadata": {},
   "outputs": [
    {
     "data": {
      "text/html": [
       "<div>\n",
       "<style scoped>\n",
       "    .dataframe tbody tr th:only-of-type {\n",
       "        vertical-align: middle;\n",
       "    }\n",
       "\n",
       "    .dataframe tbody tr th {\n",
       "        vertical-align: top;\n",
       "    }\n",
       "\n",
       "    .dataframe thead th {\n",
       "        text-align: right;\n",
       "    }\n",
       "</style>\n",
       "<table border=\"1\" class=\"dataframe\">\n",
       "  <thead>\n",
       "    <tr style=\"text-align: right;\">\n",
       "      <th></th>\n",
       "      <th>release_year</th>\n",
       "    </tr>\n",
       "  </thead>\n",
       "  <tbody>\n",
       "    <tr>\n",
       "      <th>count</th>\n",
       "      <td>9668.00</td>\n",
       "    </tr>\n",
       "    <tr>\n",
       "      <th>mean</th>\n",
       "      <td>2008.34</td>\n",
       "    </tr>\n",
       "    <tr>\n",
       "      <th>std</th>\n",
       "      <td>18.92</td>\n",
       "    </tr>\n",
       "    <tr>\n",
       "      <th>min</th>\n",
       "      <td>1920.00</td>\n",
       "    </tr>\n",
       "    <tr>\n",
       "      <th>25%</th>\n",
       "      <td>2007.00</td>\n",
       "    </tr>\n",
       "    <tr>\n",
       "      <th>50%</th>\n",
       "      <td>2016.00</td>\n",
       "    </tr>\n",
       "    <tr>\n",
       "      <th>75%</th>\n",
       "      <td>2019.00</td>\n",
       "    </tr>\n",
       "    <tr>\n",
       "      <th>max</th>\n",
       "      <td>2021.00</td>\n",
       "    </tr>\n",
       "  </tbody>\n",
       "</table>\n",
       "</div>"
      ],
      "text/plain": [
       "       release_year\n",
       "count       9668.00\n",
       "mean        2008.34\n",
       "std           18.92\n",
       "min         1920.00\n",
       "25%         2007.00\n",
       "50%         2016.00\n",
       "75%         2019.00\n",
       "max         2021.00"
      ]
     },
     "execution_count": 5,
     "metadata": {},
     "output_type": "execute_result"
    }
   ],
   "source": [
    "# Estatísticas sobre os dados\n",
    "raw_dataset.describe().round(2)"
   ]
  },
  {
   "cell_type": "code",
   "execution_count": 6,
   "metadata": {},
   "outputs": [
    {
     "data": {
      "text/plain": [
       "0"
      ]
     },
     "execution_count": 6,
     "metadata": {},
     "output_type": "execute_result"
    }
   ],
   "source": [
    "# Verificar dados duplicados\n",
    "raw_dataset.duplicated().sum()"
   ]
  },
  {
   "cell_type": "code",
   "execution_count": 7,
   "metadata": {},
   "outputs": [
    {
     "name": "stdout",
     "output_type": "stream",
     "text": [
      "<class 'pandas.core.frame.DataFrame'>\n",
      "RangeIndex: 9668 entries, 0 to 9667\n",
      "Data columns (total 12 columns):\n",
      " #   Column        Non-Null Count  Dtype \n",
      "---  ------        --------------  ----- \n",
      " 0   show_id       9668 non-null   object\n",
      " 1   type          9668 non-null   object\n",
      " 2   title         9668 non-null   object\n",
      " 3   director      7585 non-null   object\n",
      " 4   cast          8435 non-null   object\n",
      " 5   country       672 non-null    object\n",
      " 6   date_added    155 non-null    object\n",
      " 7   release_year  9668 non-null   int64 \n",
      " 8   rating        9331 non-null   object\n",
      " 9   duration      9668 non-null   object\n",
      " 10  listed_in     9668 non-null   object\n",
      " 11  description   9668 non-null   object\n",
      "dtypes: int64(1), object(11)\n",
      "memory usage: 906.5+ KB\n"
     ]
    }
   ],
   "source": [
    "# Informações sobre os dados\n",
    "raw_dataset.info()"
   ]
  },
  {
   "cell_type": "code",
   "execution_count": 8,
   "metadata": {},
   "outputs": [
    {
     "data": {
      "text/html": [
       "<div>\n",
       "<style scoped>\n",
       "    .dataframe tbody tr th:only-of-type {\n",
       "        vertical-align: middle;\n",
       "    }\n",
       "\n",
       "    .dataframe tbody tr th {\n",
       "        vertical-align: top;\n",
       "    }\n",
       "\n",
       "    .dataframe thead th {\n",
       "        text-align: right;\n",
       "    }\n",
       "</style>\n",
       "<table border=\"1\" class=\"dataframe\">\n",
       "  <thead>\n",
       "    <tr style=\"text-align: right;\">\n",
       "      <th></th>\n",
       "      <th>show_id</th>\n",
       "      <th>type</th>\n",
       "      <th>title</th>\n",
       "      <th>director</th>\n",
       "      <th>cast</th>\n",
       "      <th>country</th>\n",
       "      <th>date_added</th>\n",
       "      <th>release_year</th>\n",
       "      <th>rating</th>\n",
       "      <th>duration</th>\n",
       "      <th>listed_in</th>\n",
       "      <th>description</th>\n",
       "    </tr>\n",
       "  </thead>\n",
       "  <tbody>\n",
       "    <tr>\n",
       "      <th>0</th>\n",
       "      <td>s1</td>\n",
       "      <td>Movie</td>\n",
       "      <td>The Grand Seduction</td>\n",
       "      <td>Don McKellar</td>\n",
       "      <td>Brendan Gleeson, Taylor Kitsch, Gordon Pinsent</td>\n",
       "      <td>Canada</td>\n",
       "      <td>March 30, 2021</td>\n",
       "      <td>2014</td>\n",
       "      <td>NaN</td>\n",
       "      <td>113 min</td>\n",
       "      <td>Comedy, Drama</td>\n",
       "      <td>A small fishing village must procure a local d...</td>\n",
       "    </tr>\n",
       "    <tr>\n",
       "      <th>1</th>\n",
       "      <td>s2</td>\n",
       "      <td>Movie</td>\n",
       "      <td>Take Care Good Night</td>\n",
       "      <td>Girish Joshi</td>\n",
       "      <td>Mahesh Manjrekar, Abhay Mahajan, Sachin Khedekar</td>\n",
       "      <td>India</td>\n",
       "      <td>March 30, 2021</td>\n",
       "      <td>2018</td>\n",
       "      <td>13+</td>\n",
       "      <td>110 min</td>\n",
       "      <td>Drama, International</td>\n",
       "      <td>A Metro Family decides to fight a Cyber Crimin...</td>\n",
       "    </tr>\n",
       "    <tr>\n",
       "      <th>2</th>\n",
       "      <td>s3</td>\n",
       "      <td>Movie</td>\n",
       "      <td>Secrets of Deception</td>\n",
       "      <td>Josh Webber</td>\n",
       "      <td>Tom Sizemore, Lorenzo Lamas, Robert LaSardo, R...</td>\n",
       "      <td>United States</td>\n",
       "      <td>March 30, 2021</td>\n",
       "      <td>2017</td>\n",
       "      <td>NaN</td>\n",
       "      <td>74 min</td>\n",
       "      <td>Action, Drama, Suspense</td>\n",
       "      <td>After a man discovers his wife is cheating on ...</td>\n",
       "    </tr>\n",
       "    <tr>\n",
       "      <th>3</th>\n",
       "      <td>s4</td>\n",
       "      <td>Movie</td>\n",
       "      <td>Pink: Staying True</td>\n",
       "      <td>Sonia Anderson</td>\n",
       "      <td>Interviews with: Pink, Adele, Beyoncé, Britney...</td>\n",
       "      <td>United States</td>\n",
       "      <td>March 30, 2021</td>\n",
       "      <td>2014</td>\n",
       "      <td>NaN</td>\n",
       "      <td>69 min</td>\n",
       "      <td>Documentary</td>\n",
       "      <td>Pink breaks the mold once again, bringing her ...</td>\n",
       "    </tr>\n",
       "    <tr>\n",
       "      <th>6</th>\n",
       "      <td>s7</td>\n",
       "      <td>Movie</td>\n",
       "      <td>Hired Gun</td>\n",
       "      <td>Fran Strine</td>\n",
       "      <td>Alice Cooper, Liberty DeVitto, Ray Parker Jr.,...</td>\n",
       "      <td>United States</td>\n",
       "      <td>March 30, 2021</td>\n",
       "      <td>2017</td>\n",
       "      <td>NaN</td>\n",
       "      <td>98 min</td>\n",
       "      <td>Documentary, Special Interest</td>\n",
       "      <td>They are the \"First Call, A-list\" musicians, j...</td>\n",
       "    </tr>\n",
       "    <tr>\n",
       "      <th>7</th>\n",
       "      <td>s8</td>\n",
       "      <td>Movie</td>\n",
       "      <td>Grease Live!</td>\n",
       "      <td>Thomas Kail, Alex Rudzinski</td>\n",
       "      <td>Julianne Hough, Aaron Tveit, Vanessa Hudgens, ...</td>\n",
       "      <td>United States</td>\n",
       "      <td>March 30, 2021</td>\n",
       "      <td>2016</td>\n",
       "      <td>NaN</td>\n",
       "      <td>131 min</td>\n",
       "      <td>Comedy</td>\n",
       "      <td>This honest, uncompromising comedy chronicles ...</td>\n",
       "    </tr>\n",
       "    <tr>\n",
       "      <th>8</th>\n",
       "      <td>s9</td>\n",
       "      <td>Movie</td>\n",
       "      <td>Global Meltdown</td>\n",
       "      <td>Daniel Gilboy</td>\n",
       "      <td>Michael Paré, Leanne Khol Young, Patrick J. Ma...</td>\n",
       "      <td>Canada</td>\n",
       "      <td>March 30, 2021</td>\n",
       "      <td>2017</td>\n",
       "      <td>NaN</td>\n",
       "      <td>87 min</td>\n",
       "      <td>Action, Science Fiction, Suspense</td>\n",
       "      <td>A helicopter pilot and an environmental scient...</td>\n",
       "    </tr>\n",
       "    <tr>\n",
       "      <th>10</th>\n",
       "      <td>s11</td>\n",
       "      <td>Movie</td>\n",
       "      <td>Forest Fairies</td>\n",
       "      <td>Justin G. Dyck</td>\n",
       "      <td>Emily Wilder, Adrian Cowan, Gary Mckenzie, Jer...</td>\n",
       "      <td>Canada</td>\n",
       "      <td>April 4, 2021</td>\n",
       "      <td>2016</td>\n",
       "      <td>NaN</td>\n",
       "      <td>88 min</td>\n",
       "      <td>Adventure, Kids</td>\n",
       "      <td>Amanda stumbles upon a hidden village of fairi...</td>\n",
       "    </tr>\n",
       "    <tr>\n",
       "      <th>11</th>\n",
       "      <td>s12</td>\n",
       "      <td>Movie</td>\n",
       "      <td>Take Care</td>\n",
       "      <td>Liz Tuccillo</td>\n",
       "      <td>Leslie Bibb, Kevin Curtis, Nadia Dajani</td>\n",
       "      <td>United States</td>\n",
       "      <td>April 10, 2021</td>\n",
       "      <td>2014</td>\n",
       "      <td>NaN</td>\n",
       "      <td>93 min</td>\n",
       "      <td>Comedy</td>\n",
       "      <td>When a car crash leaves Frannie immobilized, s...</td>\n",
       "    </tr>\n",
       "    <tr>\n",
       "      <th>12</th>\n",
       "      <td>s13</td>\n",
       "      <td>Movie</td>\n",
       "      <td>The Night Eats The World</td>\n",
       "      <td>Dominique Rocher</td>\n",
       "      <td>Anders Danielsen Lie, Golshifteh Farahani, Den...</td>\n",
       "      <td>France</td>\n",
       "      <td>April 17, 2021</td>\n",
       "      <td>2018</td>\n",
       "      <td>NaN</td>\n",
       "      <td>94 min</td>\n",
       "      <td>Horror, Suspense</td>\n",
       "      <td>After waking up in an apartment the night afte...</td>\n",
       "    </tr>\n",
       "  </tbody>\n",
       "</table>\n",
       "</div>"
      ],
      "text/plain": [
       "   show_id   type                     title                     director  \\\n",
       "0       s1  Movie       The Grand Seduction                 Don McKellar   \n",
       "1       s2  Movie      Take Care Good Night                 Girish Joshi   \n",
       "2       s3  Movie      Secrets of Deception                  Josh Webber   \n",
       "3       s4  Movie        Pink: Staying True               Sonia Anderson   \n",
       "6       s7  Movie                 Hired Gun                  Fran Strine   \n",
       "7       s8  Movie              Grease Live!  Thomas Kail, Alex Rudzinski   \n",
       "8       s9  Movie           Global Meltdown                Daniel Gilboy   \n",
       "10     s11  Movie            Forest Fairies               Justin G. Dyck   \n",
       "11     s12  Movie                 Take Care                 Liz Tuccillo   \n",
       "12     s13  Movie  The Night Eats The World             Dominique Rocher   \n",
       "\n",
       "                                                 cast        country  \\\n",
       "0      Brendan Gleeson, Taylor Kitsch, Gordon Pinsent         Canada   \n",
       "1    Mahesh Manjrekar, Abhay Mahajan, Sachin Khedekar          India   \n",
       "2   Tom Sizemore, Lorenzo Lamas, Robert LaSardo, R...  United States   \n",
       "3   Interviews with: Pink, Adele, Beyoncé, Britney...  United States   \n",
       "6   Alice Cooper, Liberty DeVitto, Ray Parker Jr.,...  United States   \n",
       "7   Julianne Hough, Aaron Tveit, Vanessa Hudgens, ...  United States   \n",
       "8   Michael Paré, Leanne Khol Young, Patrick J. Ma...         Canada   \n",
       "10  Emily Wilder, Adrian Cowan, Gary Mckenzie, Jer...         Canada   \n",
       "11            Leslie Bibb, Kevin Curtis, Nadia Dajani  United States   \n",
       "12  Anders Danielsen Lie, Golshifteh Farahani, Den...         France   \n",
       "\n",
       "        date_added  release_year rating duration  \\\n",
       "0   March 30, 2021          2014    NaN  113 min   \n",
       "1   March 30, 2021          2018    13+  110 min   \n",
       "2   March 30, 2021          2017    NaN   74 min   \n",
       "3   March 30, 2021          2014    NaN   69 min   \n",
       "6   March 30, 2021          2017    NaN   98 min   \n",
       "7   March 30, 2021          2016    NaN  131 min   \n",
       "8   March 30, 2021          2017    NaN   87 min   \n",
       "10   April 4, 2021          2016    NaN   88 min   \n",
       "11  April 10, 2021          2014    NaN   93 min   \n",
       "12  April 17, 2021          2018    NaN   94 min   \n",
       "\n",
       "                            listed_in  \\\n",
       "0                       Comedy, Drama   \n",
       "1                Drama, International   \n",
       "2             Action, Drama, Suspense   \n",
       "3                         Documentary   \n",
       "6       Documentary, Special Interest   \n",
       "7                              Comedy   \n",
       "8   Action, Science Fiction, Suspense   \n",
       "10                    Adventure, Kids   \n",
       "11                             Comedy   \n",
       "12                   Horror, Suspense   \n",
       "\n",
       "                                          description  \n",
       "0   A small fishing village must procure a local d...  \n",
       "1   A Metro Family decides to fight a Cyber Crimin...  \n",
       "2   After a man discovers his wife is cheating on ...  \n",
       "3   Pink breaks the mold once again, bringing her ...  \n",
       "6   They are the \"First Call, A-list\" musicians, j...  \n",
       "7   This honest, uncompromising comedy chronicles ...  \n",
       "8   A helicopter pilot and an environmental scient...  \n",
       "10  Amanda stumbles upon a hidden village of fairi...  \n",
       "11  When a car crash leaves Frannie immobilized, s...  \n",
       "12  After waking up in an apartment the night afte...  "
      ]
     },
     "execution_count": 8,
     "metadata": {},
     "output_type": "execute_result"
    }
   ],
   "source": [
    "# Filtrar filmes lançados após 2010\n",
    "filmes_2010 = raw_dataset[raw_dataset['release_year'] > 2010]\n",
    "\n",
    "# Visualizar os filmes filtrados\n",
    "filmes_2010.head(10)"
   ]
  },
  {
   "cell_type": "code",
   "execution_count": 9,
   "metadata": {},
   "outputs": [
    {
     "name": "stdout",
     "output_type": "stream",
     "text": [
      "Contagem de filmes por país:\n",
      "country\n",
      "United States                                               253\n",
      "India                                                       229\n",
      "United Kingdom                                               28\n",
      "Canada                                                       16\n",
      "United Kingdom, United States                                12\n",
      "Spain                                                         8\n",
      "Italy                                                         8\n",
      "Canada, United States                                         7\n",
      "United States, United Kingdom                                 6\n",
      "India, United States                                          5\n",
      "Germany                                                       5\n",
      "United States, Canada                                         4\n",
      "Australia                                                     4\n",
      "United States, India                                          3\n",
      "France                                                        3\n",
      "United States, France                                         3\n",
      "Japan                                                         2\n",
      "Switzerland                                                   2\n",
      "United States, Germany                                        2\n",
      "Mexico                                                        2\n",
      "China, United States, United Kingdom                          2\n",
      "Germany, Canada, United States, France, United Kingdom        2\n",
      "United States, China                                          2\n",
      "United Kingdom, India                                         2\n",
      "Japan, France                                                 1\n",
      "Italy, Canada                                                 1\n",
      "United States, Belgium, Denmark, France                       1\n",
      "United States, Japan                                          1\n",
      "India, United States, United Kingdom, Canada, China           1\n",
      "India, South Africa, Brazil                                   1\n",
      "Kosovo, Albania, United States, Georgia                       1\n",
      "United States, Japan, Singapore, South Korea                  1\n",
      "France, Belgium                                               1\n",
      "Afghanistan, France                                           1\n",
      "Australia, Colombia, United Kingdom                           1\n",
      "United States, Sweden, Norway                                 1\n",
      "Kosovo, Netherlands                                           1\n",
      "Austria                                                       1\n",
      "Spain, United Kingdom, Italy                                  1\n",
      "Denmark, France                                               1\n",
      "United Kingdom, Spain                                         1\n",
      "United States, United Kingdom, Kazakhstan                     1\n",
      "United States, Mexico                                         1\n",
      "Malaysia                                                      1\n",
      "Poland, United States                                         1\n",
      "Canada, Germany                                               1\n",
      "India, Denmark                                                1\n",
      "United States, Austria                                        1\n",
      "United States, Germany, Japan, United Kingdom, Hong Kong      1\n",
      "United States, Switzerland                                    1\n",
      "United States, Germany, Italy                                 1\n",
      "United States, United Arab Emirates                           1\n",
      "Iran, France                                                  1\n",
      "Egypt                                                         1\n",
      "Netherlands                                                   1\n",
      "United Kingdom, France                                        1\n",
      "United States, Italy                                          1\n",
      "United States, United Kingdom, Germany                        1\n",
      "Denmark, United Kingdom, Czech Republic, Netherlands          1\n",
      "United States, Ireland                                        1\n",
      "United States, United Kingdom, Canada                         1\n",
      "United Kingdom, United States, India                          1\n",
      "United States, Thailand                                       1\n",
      "Brazil, United States, India                                  1\n",
      "Switzerland, India                                            1\n",
      "United Kingdom, Canada, United States                         1\n",
      "Belgium                                                       1\n",
      "Chile, Argentina, United States                               1\n",
      "Denmark, Sweden, United States                                1\n",
      "New Zealand                                                   1\n",
      "France, China, Belgium, Monaco                                1\n",
      "United States, Portugal                                       1\n",
      "Canada, United States, Brazil                                 1\n",
      "France, United States                                         1\n",
      "India, Sweden                                                 1\n",
      "United Kingdom, Hungary, United States                        1\n",
      "Czech Republic, Germany                                       1\n",
      "United Kingdom, France, United States                         1\n",
      "United States, France, Denmark                                1\n",
      "Brazil                                                        1\n",
      "Ireland, Belgium, France, Luxembourg, United Kingdom          1\n",
      "United States, Germany, Brazil, Italy                         1\n",
      "South Africa                                                  1\n",
      "Australia, United States, Germany                             1\n",
      "Germany, Austria, United States                               1\n",
      "Italy, Spain                                                  1\n",
      "Name: count, dtype: int64\n"
     ]
    }
   ],
   "source": [
    "# Calcular a contagem de filmes por país\n",
    "contagem_pais = raw_dataset['country'].value_counts()\n",
    "\n",
    "# Imprimir os resultados\n",
    "#print(\"Média de duração dos filmes:\", media_duracao)\n",
    "print(\"Contagem de filmes por país:\")\n",
    "print(contagem_pais)"
   ]
  },
  {
   "cell_type": "code",
   "execution_count": 10,
   "metadata": {},
   "outputs": [
    {
     "data": {
      "text/plain": [
       "show_id            0\n",
       "type               0\n",
       "title              0\n",
       "director        2083\n",
       "cast            1233\n",
       "country         8996\n",
       "date_added      9513\n",
       "release_year       0\n",
       "rating           337\n",
       "duration           0\n",
       "listed_in          0\n",
       "description        0\n",
       "dtype: int64"
      ]
     },
     "execution_count": 10,
     "metadata": {},
     "output_type": "execute_result"
    }
   ],
   "source": [
    "# Total de valores ausentes no dataset\n",
    "raw_dataset.isna().sum()"
   ]
  },
  {
   "cell_type": "code",
   "execution_count": 11,
   "metadata": {},
   "outputs": [
    {
     "data": {
      "text/plain": [
       "show_id         9668\n",
       "type               2\n",
       "title           9668\n",
       "director        5773\n",
       "cast            7927\n",
       "country           86\n",
       "date_added        84\n",
       "release_year     100\n",
       "rating            24\n",
       "duration         219\n",
       "listed_in        518\n",
       "description     9414\n",
       "dtype: int64"
      ]
     },
     "execution_count": 11,
     "metadata": {},
     "output_type": "execute_result"
    }
   ],
   "source": [
    "# Contagem de valores únicos\n",
    "raw_dataset.nunique()"
   ]
  },
  {
   "cell_type": "code",
   "execution_count": 12,
   "metadata": {},
   "outputs": [
    {
     "data": {
      "text/plain": [
       "object    11\n",
       "int64      1\n",
       "Name: count, dtype: int64"
      ]
     },
     "execution_count": 12,
     "metadata": {},
     "output_type": "execute_result"
    }
   ],
   "source": [
    "raw_dataset.dtypes.value_counts()"
   ]
  },
  {
   "cell_type": "code",
   "execution_count": 13,
   "metadata": {},
   "outputs": [
    {
     "data": {
      "text/plain": [
       "country\n",
       "United States                                               37.648810\n",
       "India                                                       34.077381\n",
       "United Kingdom                                               4.166667\n",
       "Canada                                                       2.380952\n",
       "United Kingdom, United States                                1.785714\n",
       "Spain                                                        1.190476\n",
       "Italy                                                        1.190476\n",
       "Canada, United States                                        1.041667\n",
       "United States, United Kingdom                                0.892857\n",
       "India, United States                                         0.744048\n",
       "Germany                                                      0.744048\n",
       "United States, Canada                                        0.595238\n",
       "Australia                                                    0.595238\n",
       "United States, India                                         0.446429\n",
       "France                                                       0.446429\n",
       "United States, France                                        0.446429\n",
       "Japan                                                        0.297619\n",
       "Switzerland                                                  0.297619\n",
       "United States, Germany                                       0.297619\n",
       "Mexico                                                       0.297619\n",
       "China, United States, United Kingdom                         0.297619\n",
       "Germany, Canada, United States, France, United Kingdom       0.297619\n",
       "United States, China                                         0.297619\n",
       "United Kingdom, India                                        0.297619\n",
       "Japan, France                                                0.148810\n",
       "Italy, Canada                                                0.148810\n",
       "United States, Belgium, Denmark, France                      0.148810\n",
       "United States, Japan                                         0.148810\n",
       "India, United States, United Kingdom, Canada, China          0.148810\n",
       "India, South Africa, Brazil                                  0.148810\n",
       "Kosovo, Albania, United States, Georgia                      0.148810\n",
       "United States, Japan, Singapore, South Korea                 0.148810\n",
       "France, Belgium                                              0.148810\n",
       "Afghanistan, France                                          0.148810\n",
       "Australia, Colombia, United Kingdom                          0.148810\n",
       "United States, Sweden, Norway                                0.148810\n",
       "Kosovo, Netherlands                                          0.148810\n",
       "Austria                                                      0.148810\n",
       "Spain, United Kingdom, Italy                                 0.148810\n",
       "Denmark, France                                              0.148810\n",
       "United Kingdom, Spain                                        0.148810\n",
       "United States, United Kingdom, Kazakhstan                    0.148810\n",
       "United States, Mexico                                        0.148810\n",
       "Malaysia                                                     0.148810\n",
       "Poland, United States                                        0.148810\n",
       "Canada, Germany                                              0.148810\n",
       "India, Denmark                                               0.148810\n",
       "United States, Austria                                       0.148810\n",
       "United States, Germany, Japan, United Kingdom, Hong Kong     0.148810\n",
       "United States, Switzerland                                   0.148810\n",
       "United States, Germany, Italy                                0.148810\n",
       "United States, United Arab Emirates                          0.148810\n",
       "Iran, France                                                 0.148810\n",
       "Egypt                                                        0.148810\n",
       "Netherlands                                                  0.148810\n",
       "United Kingdom, France                                       0.148810\n",
       "United States, Italy                                         0.148810\n",
       "United States, United Kingdom, Germany                       0.148810\n",
       "Denmark, United Kingdom, Czech Republic, Netherlands         0.148810\n",
       "United States, Ireland                                       0.148810\n",
       "United States, United Kingdom, Canada                        0.148810\n",
       "United Kingdom, United States, India                         0.148810\n",
       "United States, Thailand                                      0.148810\n",
       "Brazil, United States, India                                 0.148810\n",
       "Switzerland, India                                           0.148810\n",
       "United Kingdom, Canada, United States                        0.148810\n",
       "Belgium                                                      0.148810\n",
       "Chile, Argentina, United States                              0.148810\n",
       "Denmark, Sweden, United States                               0.148810\n",
       "New Zealand                                                  0.148810\n",
       "France, China, Belgium, Monaco                               0.148810\n",
       "United States, Portugal                                      0.148810\n",
       "Canada, United States, Brazil                                0.148810\n",
       "France, United States                                        0.148810\n",
       "India, Sweden                                                0.148810\n",
       "United Kingdom, Hungary, United States                       0.148810\n",
       "Czech Republic, Germany                                      0.148810\n",
       "United Kingdom, France, United States                        0.148810\n",
       "United States, France, Denmark                               0.148810\n",
       "Brazil                                                       0.148810\n",
       "Ireland, Belgium, France, Luxembourg, United Kingdom         0.148810\n",
       "United States, Germany, Brazil, Italy                        0.148810\n",
       "South Africa                                                 0.148810\n",
       "Australia, United States, Germany                            0.148810\n",
       "Germany, Austria, United States                              0.148810\n",
       "Italy, Spain                                                 0.148810\n",
       "Name: proportion, dtype: float64"
      ]
     },
     "execution_count": 13,
     "metadata": {},
     "output_type": "execute_result"
    }
   ],
   "source": [
    "# Análise dos campos objetos\n",
    "raw_dataset['country'].value_counts(normalize=True) * 100 # Porcentagem dos valores"
   ]
  },
  {
   "cell_type": "code",
   "execution_count": 14,
   "metadata": {},
   "outputs": [
    {
     "data": {
      "text/plain": [
       "rating\n",
       "13+         2117\n",
       "16+         1547\n",
       "ALL         1268\n",
       "18+         1243\n",
       "R           1010\n",
       "PG-13        393\n",
       "7+           385\n",
       "PG           253\n",
       "NR           223\n",
       "TV-14        208\n",
       "TV-PG        169\n",
       "TV-NR        105\n",
       "G             93\n",
       "TV-G          81\n",
       "TV-MA         77\n",
       "TV-Y          74\n",
       "TV-Y7         39\n",
       "UNRATED       33\n",
       "NC-17          3\n",
       "AGES_18_       3\n",
       "NOT_RATE       3\n",
       "AGES_16_       2\n",
       "16             1\n",
       "ALL_AGES       1\n",
       "Name: count, dtype: int64"
      ]
     },
     "execution_count": 14,
     "metadata": {},
     "output_type": "execute_result"
    }
   ],
   "source": [
    "rating_counts = raw_dataset['rating'].value_counts()\n",
    "rating_counts"
   ]
  },
  {
   "cell_type": "code",
   "execution_count": 22,
   "metadata": {},
   "outputs": [
    {
     "data": {
      "text/plain": [
       "2083"
      ]
     },
     "execution_count": 22,
     "metadata": {},
     "output_type": "execute_result"
    }
   ],
   "source": [
    "# Filtrar linhas com valores vazios na coluna \"director\" com base na coluna \"title\"\n",
    "dados_vazios = raw_dataset.loc[raw_dataset['director'].isnull(), 'title']\n",
    "\n",
    "# Exibir os dados vazios na coluna \"director\"\n",
    "dados_vazios.value_counts().sum()"
   ]
  },
  {
   "cell_type": "code",
   "execution_count": null,
   "metadata": {},
   "outputs": [],
   "source": []
  },
  {
   "cell_type": "code",
   "execution_count": null,
   "metadata": {},
   "outputs": [],
   "source": []
  },
  {
   "cell_type": "markdown",
   "metadata": {},
   "source": [
    "## Gráficos"
   ]
  },
  {
   "cell_type": "code",
   "execution_count": 15,
   "metadata": {},
   "outputs": [
    {
     "data": {
      "text/html": [
       "<svg  width=\"440\" height=\"55\"><rect x=\"0\" y=\"0\" width=\"55\" height=\"55\" style=\"fill:#001c7f;stroke-width:2;stroke:rgb(255,255,255)\"/><rect x=\"55\" y=\"0\" width=\"55\" height=\"55\" style=\"fill:#b1400d;stroke-width:2;stroke:rgb(255,255,255)\"/><rect x=\"110\" y=\"0\" width=\"55\" height=\"55\" style=\"fill:#12711c;stroke-width:2;stroke:rgb(255,255,255)\"/><rect x=\"165\" y=\"0\" width=\"55\" height=\"55\" style=\"fill:#8c0800;stroke-width:2;stroke:rgb(255,255,255)\"/><rect x=\"220\" y=\"0\" width=\"55\" height=\"55\" style=\"fill:#591e71;stroke-width:2;stroke:rgb(255,255,255)\"/><rect x=\"275\" y=\"0\" width=\"55\" height=\"55\" style=\"fill:#592f0d;stroke-width:2;stroke:rgb(255,255,255)\"/><rect x=\"330\" y=\"0\" width=\"55\" height=\"55\" style=\"fill:#a23582;stroke-width:2;stroke:rgb(255,255,255)\"/><rect x=\"385\" y=\"0\" width=\"55\" height=\"55\" style=\"fill:#3c3c3c;stroke-width:2;stroke:rgb(255,255,255)\"/></svg>"
      ],
      "text/plain": [
       "[(0.0, 0.10980392156862745, 0.4980392156862745),\n",
       " (0.6941176470588235, 0.25098039215686274, 0.050980392156862744),\n",
       " (0.07058823529411765, 0.44313725490196076, 0.10980392156862745),\n",
       " (0.5490196078431373, 0.03137254901960784, 0.0),\n",
       " (0.34901960784313724, 0.11764705882352941, 0.44313725490196076),\n",
       " (0.34901960784313724, 0.1843137254901961, 0.050980392156862744),\n",
       " (0.6352941176470588, 0.20784313725490197, 0.5098039215686274),\n",
       " (0.23529411764705882, 0.23529411764705882, 0.23529411764705882)]"
      ]
     },
     "execution_count": 15,
     "metadata": {},
     "output_type": "execute_result"
    }
   ],
   "source": [
    "# Definindo a paleta de cores dos gráficos\n",
    "\n",
    "colors = sns.color_palette('dark', 8)\n",
    "colors"
   ]
  },
  {
   "cell_type": "code",
   "execution_count": 16,
   "metadata": {},
   "outputs": [
    {
     "data": {
      "image/png": "[encoded data removed]",
      "text/plain": [
       "<Figure size 1500x600 with 1 Axes>"
      ]
     },
     "metadata": {},
     "output_type": "display_data"
    }
   ],
   "source": [
    "\n",
    "# Define o estilo do seaborn\n",
    "sns.set_palette(colors)\n",
    "\n",
    "# Cria o gráfico usando seaborn\n",
    "plt.figure(figsize=(15, 6))\n",
    "sns.barplot(x=raw_dataset['rating'].value_counts().index, y=raw_dataset['rating'].value_counts())\n",
    "\n",
    "# Adiciona os valores em cima das barras\n",
    "for index, value in enumerate(raw_dataset['rating'].value_counts()):\n",
    "    plt.text(index, value, str(value), ha='center', va='bottom')\n",
    "\n",
    "plt.title('Análise por Avaliação')\n",
    "plt.xticks(rotation=45, ha='right')\n",
    "plt.show()\n"
   ]
  },
  {
   "cell_type": "code",
   "execution_count": 17,
   "metadata": {},
   "outputs": [
    {
     "data": {
      "image/png": "[encoded data removed]",
      "text/plain": [
       "<Figure size 1000x600 with 1 Axes>"
      ]
     },
     "metadata": {},
     "output_type": "display_data"
    }
   ],
   "source": [
    "plt.figure(figsize=(10, 6))\n",
    "rating_counts.sort_index().plot(kind='bar', color='skyblue')\n",
    "plt.title('Distribution of Age Ratings')\n",
    "plt.xlabel('Age Rating')\n",
    "plt.ylabel('Number of Movies')\n",
    "plt.show()"
   ]
  },
  {
   "cell_type": "code",
   "execution_count": null,
   "metadata": {},
   "outputs": [],
   "source": []
  },
  {
   "cell_type": "code",
   "execution_count": null,
   "metadata": {},
   "outputs": [],
   "source": []
  }
 ],
 "metadata": {
  "kernelspec": {
   "display_name": ".venv",
   "language": "python",
   "name": "python3"
  },
  "language_info": {
   "codemirror_mode": {
    "name": "ipython",
    "version": 3
   },
   "file_extension": ".py",
   "mimetype": "text/x-python",
   "name": "python",
   "nbconvert_exporter": "python",
   "pygments_lexer": "ipython3",
   "version": "3.12.2"
  }
 },
 "nbformat": 4,
 "nbformat_minor": 2
}
